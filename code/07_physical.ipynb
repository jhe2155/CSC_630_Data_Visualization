{
 "cells": [
  {
   "cell_type": "code",
   "execution_count": 11,
   "metadata": {},
   "outputs": [
    {
     "data": {
      "text/html": [
       "\n",
       "<div id=\"altair-viz-fa97d9546604407b982662e136424dd6\"></div>\n",
       "<script type=\"text/javascript\">\n",
       "  var VEGA_DEBUG = (typeof VEGA_DEBUG == \"undefined\") ? {} : VEGA_DEBUG;\n",
       "  (function(spec, embedOpt){\n",
       "    let outputDiv = document.currentScript.previousElementSibling;\n",
       "    if (outputDiv.id !== \"altair-viz-fa97d9546604407b982662e136424dd6\") {\n",
       "      outputDiv = document.getElementById(\"altair-viz-fa97d9546604407b982662e136424dd6\");\n",
       "    }\n",
       "    const paths = {\n",
       "      \"vega\": \"https://cdn.jsdelivr.net/npm//vega@5?noext\",\n",
       "      \"vega-lib\": \"https://cdn.jsdelivr.net/npm//vega-lib?noext\",\n",
       "      \"vega-lite\": \"https://cdn.jsdelivr.net/npm//vega-lite@4.17.0?noext\",\n",
       "      \"vega-embed\": \"https://cdn.jsdelivr.net/npm//vega-embed@6?noext\",\n",
       "    };\n",
       "\n",
       "    function maybeLoadScript(lib, version) {\n",
       "      var key = `${lib.replace(\"-\", \"\")}_version`;\n",
       "      return (VEGA_DEBUG[key] == version) ?\n",
       "        Promise.resolve(paths[lib]) :\n",
       "        new Promise(function(resolve, reject) {\n",
       "          var s = document.createElement('script');\n",
       "          document.getElementsByTagName(\"head\")[0].appendChild(s);\n",
       "          s.async = true;\n",
       "          s.onload = () => {\n",
       "            VEGA_DEBUG[key] = version;\n",
       "            return resolve(paths[lib]);\n",
       "          };\n",
       "          s.onerror = () => reject(`Error loading script: ${paths[lib]}`);\n",
       "          s.src = paths[lib];\n",
       "        });\n",
       "    }\n",
       "\n",
       "    function showError(err) {\n",
       "      outputDiv.innerHTML = `<div class=\"error\" style=\"color:red;\">${err}</div>`;\n",
       "      throw err;\n",
       "    }\n",
       "\n",
       "    function displayChart(vegaEmbed) {\n",
       "      vegaEmbed(outputDiv, spec, embedOpt)\n",
       "        .catch(err => showError(`Javascript Error: ${err.message}<br>This usually means there's a typo in your chart specification. See the javascript console for the full traceback.`));\n",
       "    }\n",
       "\n",
       "    if(typeof define === \"function\" && define.amd) {\n",
       "      requirejs.config({paths});\n",
       "      require([\"vega-embed\"], displayChart, err => showError(`Error loading script: ${err.message}`));\n",
       "    } else {\n",
       "      maybeLoadScript(\"vega\", \"5\")\n",
       "        .then(() => maybeLoadScript(\"vega-lite\", \"4.17.0\"))\n",
       "        .then(() => maybeLoadScript(\"vega-embed\", \"6\"))\n",
       "        .catch(showError)\n",
       "        .then(() => displayChart(vegaEmbed));\n",
       "    }\n",
       "  })({\"config\": {\"view\": {\"continuousWidth\": 400, \"continuousHeight\": 300}}, \"repeat\": {\"row\": [\"notFlat\"]}, \"spec\": {\"data\": {\"url\": \"https://cdn.jsdelivr.net/npm/vega-datasets@v1.29.0/data/us-10m.json\", \"format\": {\"feature\": \"states\", \"type\": \"topojson\"}}, \"mark\": \"geoshape\", \"encoding\": {\"color\": {\"field\": {\"repeat\": \"row\"}, \"type\": \"quantitative\"}}, \"height\": 300, \"projection\": {\"type\": \"albersUsa\"}, \"transform\": [{\"lookup\": \"id\", \"from\": {\"data\": {\"name\": \"data-4d1d51aa6e4979c7c08984d1b36d0c28\"}, \"key\": \"id\", \"fields\": [\"notFlat\"]}}], \"width\": 500}, \"resolve\": {\"scale\": {\"color\": \"independent\"}}, \"$schema\": \"https://vega.github.io/schema/vega-lite/v4.17.0.json\", \"datasets\": {\"data-4d1d51aa6e4979c7c08984d1b36d0c28\": [{\"State\": \"Florida\", \"flattest\": 0.16, \"flatter\": 0.15, \"flat\": 0.21, \"notFlat\": 0.48}, {\"State\": \"Louisiana\", \"flattest\": 0.1, \"flatter\": 0.15, \"flat\": 0.23, \"notFlat\": 0.53}, {\"State\": \"Illinois\", \"flattest\": 0.09, \"flatter\": 0.16, \"flat\": 0.26, \"notFlat\": 0.5}, {\"State\": \"South Carolina\", \"flattest\": 0.08, \"flatter\": 0.1, \"flat\": 0.19, \"notFlat\": 0.62}, {\"State\": \"North Dakota\", \"flattest\": 0.08, \"flatter\": 0.14, \"flat\": 0.27, \"notFlat\": 0.51}, {\"State\": \"Minnesota\", \"flattest\": 0.08, \"flatter\": 0.14, \"flat\": 0.25, \"notFlat\": 0.53}, {\"State\": \"Delaware\", \"flattest\": 0.08, \"flatter\": 0.13, \"flat\": 0.23, \"notFlat\": 0.56}, {\"State\": \"Texas\", \"flattest\": 0.06, \"flatter\": 0.12, \"flat\": 0.26, \"notFlat\": 0.57}, {\"State\": \"Kansas\", \"flattest\": 0.06, \"flatter\": 0.13, \"flat\": 0.25, \"notFlat\": 0.56}, {\"State\": \"North Carolina\", \"flattest\": 0.05, \"flatter\": 0.09, \"flat\": 0.19, \"notFlat\": 0.67}, {\"State\": \"New Jersey\", \"flattest\": 0.05, \"flatter\": 0.1, \"flat\": 0.23, \"notFlat\": 0.63}, {\"State\": \"Iowa\", \"flattest\": 0.05, \"flatter\": 0.11, \"flat\": 0.21, \"notFlat\": 0.64}, {\"State\": \"Indiana\", \"flattest\": 0.05, \"flatter\": 0.13, \"flat\": 0.24, \"notFlat\": 0.58}, {\"State\": \"Arkansas\", \"flattest\": 0.05, \"flatter\": 0.1, \"flat\": 0.2, \"notFlat\": 0.65}, {\"State\": \"South Dakota\", \"flattest\": 0.04, \"flatter\": 0.1, \"flat\": 0.26, \"notFlat\": 0.6}, {\"State\": \"Ohio\", \"flattest\": 0.04, \"flatter\": 0.1, \"flat\": 0.22, \"notFlat\": 0.64}, {\"State\": \"Nebraska\", \"flattest\": 0.04, \"flatter\": 0.09, \"flat\": 0.23, \"notFlat\": 0.64}, {\"State\": \"Mississippi\", \"flattest\": 0.04, \"flatter\": 0.1, \"flat\": 0.21, \"notFlat\": 0.65}, {\"State\": \"Maryland\", \"flattest\": 0.04, \"flatter\": 0.07, \"flat\": 0.2, \"notFlat\": 0.69}, {\"State\": \"Georgia\", \"flattest\": 0.04, \"flatter\": 0.08, \"flat\": 0.19, \"notFlat\": 0.69}, {\"State\": \"Oklahoma\", \"flattest\": 0.03, \"flatter\": 0.1, \"flat\": 0.25, \"notFlat\": 0.63}, {\"State\": \"Missouri\", \"flattest\": 0.03, \"flatter\": 0.08, \"flat\": 0.18, \"notFlat\": 0.7}, {\"State\": \"Michigan\", \"flattest\": 0.03, \"flatter\": 0.1, \"flat\": 0.26, \"notFlat\": 0.61}, {\"State\": \"Wisconsin\", \"flattest\": 0.02, \"flatter\": 0.08, \"flat\": 0.21, \"notFlat\": 0.69}, {\"State\": \"Virginia\", \"flattest\": 0.02, \"flatter\": 0.05, \"flat\": 0.17, \"notFlat\": 0.76}, {\"State\": \"Utah\", \"flattest\": 0.02, \"flatter\": 0.04, \"flat\": 0.29, \"notFlat\": 0.65}, {\"State\": \"Rhode Island\", \"flattest\": 0.02, \"flatter\": 0.06, \"flat\": 0.24, \"notFlat\": 0.68}, {\"State\": \"New Mexico\", \"flattest\": 0.02, \"flatter\": 0.07, \"flat\": 0.29, \"notFlat\": 0.62}, {\"State\": \"Kentucky\", \"flattest\": 0.02, \"flatter\": 0.05, \"flat\": 0.13, \"notFlat\": 0.8}, {\"State\": \"Colorado\", \"flattest\": 0.02, \"flatter\": 0.06, \"flat\": 0.26, \"notFlat\": 0.66}, {\"State\": \"California\", \"flattest\": 0.02, \"flatter\": 0.05, \"flat\": 0.27, \"notFlat\": 0.65}, {\"State\": \"Alabama\", \"flattest\": 0.02, \"flatter\": 0.06, \"flat\": 0.17, \"notFlat\": 0.74}, {\"State\": \"Washington\", \"flattest\": 0.01, \"flatter\": 0.03, \"flat\": 0.21, \"notFlat\": 0.75}, {\"State\": \"Tennessee\", \"flattest\": 0.01, \"flatter\": 0.05, \"flat\": 0.15, \"notFlat\": 0.78}, {\"State\": \"Pennsylvania\", \"flattest\": 0.01, \"flatter\": 0.03, \"flat\": 0.16, \"notFlat\": 0.8}, {\"State\": \"Oregon\", \"flattest\": 0.01, \"flatter\": 0.03, \"flat\": 0.24, \"notFlat\": 0.72}, {\"State\": \"New York\", \"flattest\": 0.01, \"flatter\": 0.04, \"flat\": 0.21, \"notFlat\": 0.75}, {\"State\": \"Nevada\", \"flattest\": 0.01, \"flatter\": 0.05, \"flat\": 0.37, \"notFlat\": 0.57}, {\"State\": \"Montana\", \"flattest\": 0.01, \"flatter\": 0.04, \"flat\": 0.23, \"notFlat\": 0.72}, {\"State\": \"Massachusetts\", \"flattest\": 0.01, \"flatter\": 0.05, \"flat\": 0.19, \"notFlat\": 0.75}, {\"State\": \"Maine\", \"flattest\": 0.01, \"flatter\": 0.03, \"flat\": 0.22, \"notFlat\": 0.74}, {\"State\": \"Idaho\", \"flattest\": 0.01, \"flatter\": 0.04, \"flat\": 0.24, \"notFlat\": 0.71}, {\"State\": \"Connecticut\", \"flattest\": 0.01, \"flatter\": 0.03, \"flat\": 0.17, \"notFlat\": 0.69}, {\"State\": \"Arizona\", \"flattest\": 0.01, \"flatter\": 0.07, \"flat\": 0.31, \"notFlat\": 0.62}, {\"State\": \"Wyoming\", \"flattest\": null, \"flatter\": 0.04, \"flat\": 0.24, \"notFlat\": 0.71}, {\"State\": \"West Virginia\", \"flattest\": null, \"flatter\": 0.01, \"flat\": 0.1, \"notFlat\": 0.88}, {\"State\": \"Vermont\", \"flattest\": null, \"flatter\": 0.02, \"flat\": 0.18, \"notFlat\": 0.8}, {\"State\": \"New Hampshire\", \"flattest\": null, \"flatter\": 0.02, \"flat\": 0.18, \"notFlat\": 0.8}, {\"State\": \"Hawaii\", \"flattest\": null, \"flatter\": null, \"flat\": null, \"notFlat\": null}, {\"State\": \"Alaska\", \"flattest\": null, \"flatter\": null, \"flat\": null, \"notFlat\": null}]}}, {\"mode\": \"vega-lite\"});\n",
       "</script>"
      ],
      "text/plain": [
       "alt.RepeatChart(...)"
      ]
     },
     "execution_count": 11,
     "metadata": {},
     "output_type": "execute_result"
    }
   ],
   "source": [
    "import altair as alt\n",
    "import pandas as pd\n",
    "\n",
    "source = pd.read_csv('flatness.csv')\n",
    "chart = alt.Chart()"
   ]
  }
 ],
 "metadata": {
  "interpreter": {
   "hash": "272ce5d886307d9ca2901a8be5ca585c2cae15a9b91095c1908605348204e7d0"
  },
  "kernelspec": {
   "display_name": "Python 3.9.6 64-bit (system)",
   "language": "python",
   "name": "python3"
  },
  "language_info": {
   "name": "python",
   "version": "3.9.6"
  },
  "orig_nbformat": 4
 },
 "nbformat": 4,
 "nbformat_minor": 2
}
