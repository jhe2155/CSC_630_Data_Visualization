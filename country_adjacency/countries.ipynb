{
 "cells": [
  {
   "cell_type": "code",
   "execution_count": 15,
   "id": "49c572db",
   "metadata": {
    "ExecuteTime": {
     "end_time": "2021-08-25T18:12:06.438796Z",
     "start_time": "2021-08-25T18:12:06.295896Z"
    }
   },
   "outputs": [
    {
     "ename": "ModuleNotFoundError",
     "evalue": "No module named 'networkx'",
     "output_type": "error",
     "traceback": [
      "\u001b[1;31m---------------------------------------------------------------------------\u001b[0m",
      "\u001b[1;31mModuleNotFoundError\u001b[0m                       Traceback (most recent call last)",
      "\u001b[1;32mc:\\Users\\xzhou\\OneDrive\\Documents\\Academic\\CSC630_DataVis\\CSC_630_Data_Visualization\\country_adjacency\\countries.ipynb Cell 1'\u001b[0m in \u001b[0;36m<module>\u001b[1;34m\u001b[0m\n\u001b[1;32m----> <a href='vscode-notebook-cell:/c%3A/Users/xzhou/OneDrive/Documents/Academic/CSC630_DataVis/CSC_630_Data_Visualization/country_adjacency/countries.ipynb#ch0000000?line=0'>1</a>\u001b[0m \u001b[39mfrom\u001b[39;00m \u001b[39mpyvis\u001b[39;00m\u001b[39m.\u001b[39;00m\u001b[39mnetwork\u001b[39;00m \u001b[39mimport\u001b[39;00m Network\n",
      "File \u001b[1;32m~\\AppData\\Roaming\\Python\\Python39\\site-packages\\pyvis\\__init__.py:1\u001b[0m, in \u001b[0;36m<module>\u001b[1;34m\u001b[0m\n\u001b[1;32m----> <a href='file:///~/AppData/Roaming/Python/Python39/site-packages/pyvis/__init__.py?line=0'>1</a>\u001b[0m \u001b[39mfrom\u001b[39;00m \u001b[39m.\u001b[39;00m \u001b[39mimport\u001b[39;00m network\n\u001b[0;32m      <a href='file:///~/AppData/Roaming/Python/Python39/site-packages/pyvis/__init__.py?line=1'>2</a>\u001b[0m \u001b[39mfrom\u001b[39;00m \u001b[39m.\u001b[39;00m\u001b[39m_version\u001b[39;00m \u001b[39mimport\u001b[39;00m __version__\n",
      "File \u001b[1;32m~\\AppData\\Roaming\\Python\\Python39\\site-packages\\pyvis\\network.py:10\u001b[0m, in \u001b[0;36m<module>\u001b[1;34m\u001b[0m\n\u001b[0;32m      <a href='file:///~/AppData/Roaming/Python/Python39/site-packages/pyvis/network.py?line=7'>8</a>\u001b[0m \u001b[39mfrom\u001b[39;00m \u001b[39mIPython\u001b[39;00m\u001b[39m.\u001b[39;00m\u001b[39mcore\u001b[39;00m\u001b[39m.\u001b[39;00m\u001b[39mdisplay\u001b[39;00m \u001b[39mimport\u001b[39;00m HTML\n\u001b[0;32m      <a href='file:///~/AppData/Roaming/Python/Python39/site-packages/pyvis/network.py?line=8'>9</a>\u001b[0m \u001b[39mfrom\u001b[39;00m \u001b[39mcollections\u001b[39;00m \u001b[39mimport\u001b[39;00m defaultdict\n\u001b[1;32m---> <a href='file:///~/AppData/Roaming/Python/Python39/site-packages/pyvis/network.py?line=9'>10</a>\u001b[0m \u001b[39mimport\u001b[39;00m \u001b[39mnetworkx\u001b[39;00m \u001b[39mas\u001b[39;00m \u001b[39mnx\u001b[39;00m\n\u001b[0;32m     <a href='file:///~/AppData/Roaming/Python/Python39/site-packages/pyvis/network.py?line=10'>11</a>\u001b[0m \u001b[39mimport\u001b[39;00m \u001b[39mjson\u001b[39;00m\n\u001b[0;32m     <a href='file:///~/AppData/Roaming/Python/Python39/site-packages/pyvis/network.py?line=11'>12</a>\u001b[0m \u001b[39mimport\u001b[39;00m \u001b[39mjsonpickle\u001b[39;00m\n",
      "\u001b[1;31mModuleNotFoundError\u001b[0m: No module named 'networkx'"
     ]
    }
   ],
   "source": [
    "from pyvis.network import Network"
   ]
  },
  {
   "cell_type": "markdown",
   "id": "16dc89d4",
   "metadata": {},
   "source": [
    "# Get Started"
   ]
  },
  {
   "cell_type": "code",
   "execution_count": 11,
   "id": "c30bd856",
   "metadata": {
    "ExecuteTime": {
     "end_time": "2021-08-25T18:12:06.965773Z",
     "start_time": "2021-08-25T18:12:06.439877Z"
    }
   },
   "outputs": [
    {
     "ename": "ModuleNotFoundError",
     "evalue": "No module named 'datapane'",
     "output_type": "error",
     "traceback": [
      "\u001b[1;31m---------------------------------------------------------------------------\u001b[0m",
      "\u001b[1;31mModuleNotFoundError\u001b[0m                       Traceback (most recent call last)",
      "\u001b[1;32mc:\\Users\\xzhou\\OneDrive\\Documents\\Academic\\CSC630_DataVis\\CSC_630_Data_Visualization\\country_adjacency\\countries.ipynb Cell 3'\u001b[0m in \u001b[0;36m<module>\u001b[1;34m\u001b[0m\n\u001b[1;32m----> <a href='vscode-notebook-cell:/c%3A/Users/xzhou/OneDrive/Documents/Academic/CSC630_DataVis/CSC_630_Data_Visualization/country_adjacency/countries.ipynb#ch0000002?line=0'>1</a>\u001b[0m \u001b[39mimport\u001b[39;00m \u001b[39mdatapane\u001b[39;00m \u001b[39mas\u001b[39;00m \u001b[39mdp\u001b[39;00m \n\u001b[0;32m      <a href='vscode-notebook-cell:/c%3A/Users/xzhou/OneDrive/Documents/Academic/CSC630_DataVis/CSC_630_Data_Visualization/country_adjacency/countries.ipynb#ch0000002?line=2'>3</a>\u001b[0m report \u001b[39m=\u001b[39m []\n",
      "\u001b[1;31mModuleNotFoundError\u001b[0m: No module named 'datapane'"
     ]
    }
   ],
   "source": [
    "import datapane as dp \n",
    "\n",
    "report = []"
   ]
  },
  {
   "cell_type": "code",
   "execution_count": 12,
   "id": "2e0f36f6",
   "metadata": {
    "ExecuteTime": {
     "end_time": "2021-08-25T18:12:06.968695Z",
     "start_time": "2021-08-25T18:12:06.966646Z"
    }
   },
   "outputs": [],
   "source": [
    "def read_html(name: str):\n",
    "    import codecs\n",
    "    f = codecs.open(name, 'r')\n",
    "    return f.read()"
   ]
  },
  {
   "cell_type": "markdown",
   "id": "8fd4225c",
   "metadata": {},
   "source": [
    "## Add nodes"
   ]
  },
  {
   "cell_type": "code",
   "execution_count": 13,
   "id": "3b3420e4",
   "metadata": {
    "ExecuteTime": {
     "end_time": "2021-08-25T18:12:06.982737Z",
     "start_time": "2021-08-25T18:12:06.970065Z"
    }
   },
   "outputs": [
    {
     "ename": "NameError",
     "evalue": "name 'Network' is not defined",
     "output_type": "error",
     "traceback": [
      "\u001b[1;31m---------------------------------------------------------------------------\u001b[0m",
      "\u001b[1;31mNameError\u001b[0m                                 Traceback (most recent call last)",
      "\u001b[1;32mc:\\Users\\xzhou\\OneDrive\\Documents\\Academic\\CSC630_DataVis\\CSC_630_Data_Visualization\\country_adjacency\\countries.ipynb Cell 6'\u001b[0m in \u001b[0;36m<module>\u001b[1;34m\u001b[0m\n\u001b[1;32m----> <a href='vscode-notebook-cell:/c%3A/Users/xzhou/OneDrive/Documents/Academic/CSC630_DataVis/CSC_630_Data_Visualization/country_adjacency/countries.ipynb#ch0000005?line=0'>1</a>\u001b[0m net \u001b[39m=\u001b[39m Network(notebook\u001b[39m=\u001b[39m\u001b[39mTrue\u001b[39;00m)\n\u001b[0;32m      <a href='vscode-notebook-cell:/c%3A/Users/xzhou/OneDrive/Documents/Academic/CSC630_DataVis/CSC_630_Data_Visualization/country_adjacency/countries.ipynb#ch0000005?line=1'>2</a>\u001b[0m net\u001b[39m.\u001b[39madd_node(\u001b[39m1\u001b[39m, label\u001b[39m=\u001b[39m\u001b[39m\"\u001b[39m\u001b[39mAlex\u001b[39m\u001b[39m\"\u001b[39m)\n\u001b[0;32m      <a href='vscode-notebook-cell:/c%3A/Users/xzhou/OneDrive/Documents/Academic/CSC630_DataVis/CSC_630_Data_Visualization/country_adjacency/countries.ipynb#ch0000005?line=2'>3</a>\u001b[0m net\u001b[39m.\u001b[39madd_node(\u001b[39m2\u001b[39m, label\u001b[39m=\u001b[39m\u001b[39m\"\u001b[39m\u001b[39mCathy\u001b[39m\u001b[39m\"\u001b[39m)\n",
      "\u001b[1;31mNameError\u001b[0m: name 'Network' is not defined"
     ]
    }
   ],
   "source": [
    "net = Network(notebook=True)\n",
    "net.add_node(1, label=\"Alex\")\n",
    "net.add_node(2, label=\"Cathy\")\n",
    "net.show(\"nodes.html\")"
   ]
  },
  {
   "cell_type": "code",
   "execution_count": 14,
   "id": "89db7d41",
   "metadata": {
    "ExecuteTime": {
     "end_time": "2021-08-25T18:12:06.986144Z",
     "start_time": "2021-08-25T18:12:06.983624Z"
    }
   },
   "outputs": [
    {
     "ename": "NameError",
     "evalue": "name 'report' is not defined",
     "output_type": "error",
     "traceback": [
      "\u001b[1;31m---------------------------------------------------------------------------\u001b[0m",
      "\u001b[1;31mNameError\u001b[0m                                 Traceback (most recent call last)",
      "\u001b[1;32mc:\\Users\\xzhou\\OneDrive\\Documents\\Academic\\CSC630_DataVis\\CSC_630_Data_Visualization\\country_adjacency\\countries.ipynb Cell 7'\u001b[0m in \u001b[0;36m<module>\u001b[1;34m\u001b[0m\n\u001b[1;32m----> <a href='vscode-notebook-cell:/c%3A/Users/xzhou/OneDrive/Documents/Academic/CSC630_DataVis/CSC_630_Data_Visualization/country_adjacency/countries.ipynb#ch0000006?line=0'>1</a>\u001b[0m report\u001b[39m.\u001b[39mappend(dp\u001b[39m.\u001b[39mHTML(read_html(\u001b[39m'\u001b[39m\u001b[39mnodes.html\u001b[39m\u001b[39m'\u001b[39m), name\u001b[39m=\u001b[39m\u001b[39m'\u001b[39m\u001b[39mnodes\u001b[39m\u001b[39m'\u001b[39m))\n",
      "\u001b[1;31mNameError\u001b[0m: name 'report' is not defined"
     ]
    }
   ],
   "source": [
    "report.append(dp.HTML(read_html('nodes.html'), name='nodes'))"
   ]
  },
  {
   "cell_type": "markdown",
   "id": "fc248cad",
   "metadata": {},
   "source": [
    "## Add a list of nodes"
   ]
  },
  {
   "cell_type": "code",
   "execution_count": null,
   "id": "c6a6f648",
   "metadata": {
    "ExecuteTime": {
     "end_time": "2021-08-25T18:12:06.995458Z",
     "start_time": "2021-08-25T18:12:06.987247Z"
    }
   },
   "outputs": [],
   "source": [
    "net = Network(notebook=True)\n",
    "net.add_nodes([1, 2], label=[\"Alex\", \"Carthy\"])\n",
    "net.show(\"list_of_nodes.html\")"
   ]
  },
  {
   "cell_type": "code",
   "execution_count": 9,
   "id": "1d92c1f8",
   "metadata": {
    "ExecuteTime": {
     "end_time": "2021-08-25T18:12:07.000155Z",
     "start_time": "2021-08-25T18:12:06.996564Z"
    }
   },
   "outputs": [
    {
     "ename": "NameError",
     "evalue": "name 'report' is not defined",
     "output_type": "error",
     "traceback": [
      "\u001b[1;31m---------------------------------------------------------------------------\u001b[0m",
      "\u001b[1;31mNameError\u001b[0m                                 Traceback (most recent call last)",
      "\u001b[1;32mc:\\Users\\xzhou\\OneDrive\\Documents\\Academic\\CSC630_DataVis\\CSC_630_Data_Visualization\\country_adjacency\\countries.ipynb Cell 10'\u001b[0m in \u001b[0;36m<module>\u001b[1;34m\u001b[0m\n\u001b[1;32m----> <a href='vscode-notebook-cell:/c%3A/Users/xzhou/OneDrive/Documents/Academic/CSC630_DataVis/CSC_630_Data_Visualization/country_adjacency/countries.ipynb#ch0000009?line=0'>1</a>\u001b[0m report\u001b[39m.\u001b[39mappend(dp\u001b[39m.\u001b[39mHTML(read_html(\u001b[39m'\u001b[39m\u001b[39mlist_of_nodes.html\u001b[39m\u001b[39m'\u001b[39m), name\u001b[39m=\u001b[39m\u001b[39m'\u001b[39m\u001b[39mlist_of_nodes\u001b[39m\u001b[39m'\u001b[39m))\n",
      "\u001b[1;31mNameError\u001b[0m: name 'report' is not defined"
     ]
    }
   ],
   "source": [
    "report.append(dp.HTML(read_html('list_of_nodes.html'), name='list_of_nodes'))"
   ]
  },
  {
   "cell_type": "code",
   "execution_count": null,
   "id": "40809cec",
   "metadata": {
    "ExecuteTime": {
     "end_time": "2021-08-25T18:12:07.005789Z",
     "start_time": "2021-08-25T18:12:07.001347Z"
    }
   },
   "outputs": [],
   "source": [
    "net.add_nodes(\n",
    "    [3, 4, 5, 6],\n",
    "    label=[\"Michael\", \"Ben\", \"Oliver\", \"Olivia\"],\n",
    "    color=[\"#3da831\", \"#9a31a8\", \"#3155a8\", \"#eb4034\"],\n",
    ")\n",
    "net.show(\"list_of_nodes_with_color.html\")"
   ]
  },
  {
   "cell_type": "code",
   "execution_count": null,
   "id": "6a44cb24",
   "metadata": {
    "ExecuteTime": {
     "end_time": "2021-08-25T18:12:07.008913Z",
     "start_time": "2021-08-25T18:12:07.006801Z"
    }
   },
   "outputs": [],
   "source": [
    "report.append(dp.HTML(read_html('list_of_nodes_with_color.html'), name='list_of_nodes_with_color'))"
   ]
  },
  {
   "cell_type": "markdown",
   "id": "1fcc879a",
   "metadata": {},
   "source": [
    "## Add edges"
   ]
  },
  {
   "cell_type": "markdown",
   "id": "49f1e001",
   "metadata": {},
   "source": [
    "### Edges"
   ]
  },
  {
   "cell_type": "code",
   "execution_count": null,
   "id": "eb1f3174",
   "metadata": {
    "ExecuteTime": {
     "end_time": "2021-08-25T18:12:07.018374Z",
     "start_time": "2021-08-25T18:12:07.010596Z"
    }
   },
   "outputs": [],
   "source": [
    "net = Network(notebook=True)\n",
    "\n",
    "net.add_nodes(\n",
    "    [1, 2, 3, 4, 5, 6],\n",
    "    label=[\"Alex\", \"Cathy\", \"Michael\", \"Ben\", \"Oliver\", \"Olivia\"],\n",
    "    color=[\"#00bfff\", \"#ffc0cb\", \"#3da831\", \"#9a31a8\", \"#3155a8\", \"#eb4034\"],\n",
    ")"
   ]
  },
  {
   "cell_type": "code",
   "execution_count": null,
   "id": "8f57ee40",
   "metadata": {
    "ExecuteTime": {
     "end_time": "2021-08-25T18:12:07.025509Z",
     "start_time": "2021-08-25T18:12:07.019274Z"
    }
   },
   "outputs": [],
   "source": [
    "net.add_edge(1, 5)\n",
    "net.add_edges([(2, 5), (3, 4), (1, 6), (2, 6), (3, 5)])\n",
    "net.show(\"edges.html\")"
   ]
  },
  {
   "cell_type": "code",
   "execution_count": null,
   "id": "0ef61e12",
   "metadata": {
    "ExecuteTime": {
     "end_time": "2021-08-25T18:12:07.028576Z",
     "start_time": "2021-08-25T18:12:07.026348Z"
    }
   },
   "outputs": [],
   "source": [
    "report.append(dp.HTML(read_html('edges.html'), name='edges'))"
   ]
  },
  {
   "cell_type": "markdown",
   "id": "04655289",
   "metadata": {},
   "source": [
    "### Edges with Weights"
   ]
  },
  {
   "cell_type": "code",
   "execution_count": null,
   "id": "c5dcdb69",
   "metadata": {
    "ExecuteTime": {
     "end_time": "2021-08-25T18:12:07.036387Z",
     "start_time": "2021-08-25T18:12:07.029430Z"
    }
   },
   "outputs": [],
   "source": [
    "net = Network(notebook=True)\n",
    "\n",
    "net.add_nodes(\n",
    "    [1, 2, 3, 4, 5, 6],\n",
    "    label=[\"Alex\", \"Cathy\", \"Michael\", \"Ben\", \"Oliver\", \"Olivia\"],\n",
    "    color=[\"#00bfff\", \"#ffc0cb\", \"#3da831\", \"#9a31a8\", \"#3155a8\", \"#eb4034\"],\n",
    ")"
   ]
  },
  {
   "cell_type": "code",
   "execution_count": null,
   "id": "cc47d846",
   "metadata": {
    "ExecuteTime": {
     "end_time": "2021-08-25T18:12:07.041389Z",
     "start_time": "2021-08-25T18:12:07.037267Z"
    }
   },
   "outputs": [],
   "source": [
    "net.add_edge(1, 5, value=2)\n",
    "net.add_edges([(2, 5, 5), (3, 4, 2), (1, 6), (2, 6), (3, 5)])"
   ]
  },
  {
   "cell_type": "code",
   "execution_count": null,
   "id": "0a022f3a",
   "metadata": {
    "ExecuteTime": {
     "end_time": "2021-08-25T18:12:07.045653Z",
     "start_time": "2021-08-25T18:12:07.042162Z"
    }
   },
   "outputs": [],
   "source": [
    "net.show(\"edges_with_weights.html\")"
   ]
  },
  {
   "cell_type": "code",
   "execution_count": null,
   "id": "81e4e6d8",
   "metadata": {
    "ExecuteTime": {
     "end_time": "2021-08-25T18:12:07.048649Z",
     "start_time": "2021-08-25T18:12:07.046377Z"
    }
   },
   "outputs": [],
   "source": [
    "report.append(dp.HTML(read_html('edges_with_weights.html'), name='edges_with_weights'))"
   ]
  },
  {
   "cell_type": "markdown",
   "id": "bf8d1188",
   "metadata": {},
   "source": [
    "### Edges with Repulsion"
   ]
  },
  {
   "cell_type": "code",
   "execution_count": null,
   "id": "72f8825f",
   "metadata": {
    "ExecuteTime": {
     "end_time": "2021-08-25T18:12:07.053421Z",
     "start_time": "2021-08-25T18:12:07.049536Z"
    }
   },
   "outputs": [],
   "source": [
    "def add_repulsion(node_distance: int, spring_length: int):\n",
    "    net = Network(notebook=True)\n",
    "\n",
    "    net.add_nodes(\n",
    "        [1, 2, 3, 4, 5, 6],\n",
    "        label=[\"Alex\", \"Cathy\", \"Michael\", \"Ben\", \"Oliver\", \"Olivia\"],\n",
    "        color=[\"#00bfff\", \"#ffc0cb\", \"#3da831\", \"#9a31a8\", \"#3155a8\", \"#eb4034\"],\n",
    "    )\n",
    "\n",
    "    net.add_edge(1, 5, value=2)\n",
    "    net.add_edges([(2, 5, 5), (3, 4, 2), (1, 6), (2, 6), (3, 5)])\n",
    "\n",
    "    net.repulsion(node_distance=node_distance, spring_length=spring_length)\n",
    "\n",
    "    net.show(f\"distance_{node_distance}_spring_length_{spring_length}.html\")\n",
    "\n",
    "    return net"
   ]
  },
  {
   "cell_type": "code",
   "execution_count": null,
   "id": "a6f905ec",
   "metadata": {
    "ExecuteTime": {
     "end_time": "2021-08-25T18:12:07.063199Z",
     "start_time": "2021-08-25T18:12:07.054445Z"
    }
   },
   "outputs": [],
   "source": [
    "net = add_repulsion(node_distance=100, spring_length=200)\n",
    "net.show(\"distance_100_spring_length_200.html\")"
   ]
  },
  {
   "cell_type": "code",
   "execution_count": null,
   "id": "e62e39cb",
   "metadata": {
    "ExecuteTime": {
     "end_time": "2021-08-25T18:12:07.067746Z",
     "start_time": "2021-08-25T18:12:07.064255Z"
    }
   },
   "outputs": [],
   "source": [
    "report.append(dp.HTML(read_html('distance_100_spring_length_200.html'), name='distance_100_spring_length_200'))"
   ]
  },
  {
   "cell_type": "code",
   "execution_count": null,
   "id": "d1a5b0a8",
   "metadata": {
    "ExecuteTime": {
     "end_time": "2021-08-25T18:12:07.077820Z",
     "start_time": "2021-08-25T18:12:07.068813Z"
    }
   },
   "outputs": [],
   "source": [
    "net = add_repulsion(node_distance=100, spring_length=1000)\n",
    "net.show(f\"distance_100_spring_length_1000.html\")"
   ]
  },
  {
   "cell_type": "code",
   "execution_count": null,
   "id": "a243750b",
   "metadata": {
    "ExecuteTime": {
     "end_time": "2021-08-25T18:12:07.082056Z",
     "start_time": "2021-08-25T18:12:07.078594Z"
    }
   },
   "outputs": [],
   "source": [
    "report.append(dp.HTML(read_html('distance_100_spring_length_1000.html'), name='distance_100_spring_length_1000'))"
   ]
  },
  {
   "cell_type": "code",
   "execution_count": null,
   "id": "1d2c4a64",
   "metadata": {
    "ExecuteTime": {
     "end_time": "2021-08-25T18:12:07.128758Z",
     "start_time": "2021-08-25T18:12:07.082920Z"
    }
   },
   "outputs": [],
   "source": [
    "net = add_repulsion(node_distance=500, spring_length=200)\n",
    "net.show(f\"distance_500_spring_length_200.html\")"
   ]
  },
  {
   "cell_type": "code",
   "execution_count": null,
   "id": "a6dfefab",
   "metadata": {
    "ExecuteTime": {
     "end_time": "2021-08-25T18:12:07.133326Z",
     "start_time": "2021-08-25T18:12:07.129909Z"
    }
   },
   "outputs": [],
   "source": [
    "report.append(dp.HTML(read_html('distance_500_spring_length_200.html'), name='distance_500_spring_length_200'))"
   ]
  },
  {
   "cell_type": "markdown",
   "id": "50288844",
   "metadata": {},
   "source": [
    "# Matching problem"
   ]
  },
  {
   "cell_type": "code",
   "execution_count": null,
   "id": "94904a09",
   "metadata": {
    "ExecuteTime": {
     "end_time": "2021-08-25T18:12:07.221069Z",
     "start_time": "2021-08-25T18:12:07.134062Z"
    }
   },
   "outputs": [],
   "source": [
    "import pandas as pd\n",
    "\n",
    "df = pd.read_excel(\"employer_matching.xlsx\", index_col=0)\n",
    "nodes = df.columns.to_list()\n",
    "nodes = [node.strip() for node in nodes]\n",
    "nodes"
   ]
  },
  {
   "cell_type": "code",
   "execution_count": null,
   "id": "b297457a",
   "metadata": {
    "ExecuteTime": {
     "end_time": "2021-08-25T18:12:07.239579Z",
     "start_time": "2021-08-25T18:12:07.221955Z"
    }
   },
   "outputs": [],
   "source": [
    "report.append(dp.DataTable(df, name='employer_matching'))"
   ]
  },
  {
   "cell_type": "code",
   "execution_count": null,
   "id": "206df0f9",
   "metadata": {
    "ExecuteTime": {
     "end_time": "2021-08-25T18:12:07.243607Z",
     "start_time": "2021-08-25T18:12:07.240529Z"
    }
   },
   "outputs": [],
   "source": [
    "def draw_network(\n",
    "    nodes: list,\n",
    "    df: pd.DataFrame,\n",
    "    minium_weight: int = 0,\n",
    "    repulsion: int = 100,\n",
    "    spring_length=200,\n",
    "    buttons=False,\n",
    "):\n",
    "\n",
    "    net = Network(\"500px\", \"500px\", notebook=True)\n",
    "    net.add_nodes(nodes)\n",
    "\n",
    "    # add edges\n",
    "    for node, weights in df.iterrows():\n",
    "        edges = get_edges(node, weights, nodes, minium_weight)\n",
    "        net.add_edges(edges)\n",
    "\n",
    "    # change node distance and spring length\n",
    "    net.repulsion(repulsion, spring_length=spring_length)\n",
    "\n",
    "    # Tweek configuration UI\n",
    "    net.show_buttons(filter_=buttons)\n",
    "    return net"
   ]
  },
  {
   "cell_type": "code",
   "execution_count": null,
   "id": "679fb77b",
   "metadata": {
    "ExecuteTime": {
     "end_time": "2021-08-25T18:12:07.249073Z",
     "start_time": "2021-08-25T18:12:07.244455Z"
    },
    "code_folding": []
   },
   "outputs": [],
   "source": [
    "def get_edges(node: str, weights: list, all_nodes: list, minium_weight: int):\n",
    "\n",
    "    nodes = all_nodes.copy()\n",
    "\n",
    "    # Remove target node\n",
    "    nodes.remove(node)\n",
    "\n",
    "    # Create a list of edges with weights\n",
    "    edges = [(node, connection, weight) for connection, weight in zip(nodes, weights)]\n",
    "\n",
    "    # Get only edges with weights greater than the minimum weight\n",
    "    edges = [edge for edge in edges if edge[2] >= minium_weight]\n",
    "\n",
    "    return edges"
   ]
  },
  {
   "cell_type": "code",
   "execution_count": null,
   "id": "de2de18a",
   "metadata": {
    "ExecuteTime": {
     "end_time": "2021-08-25T18:12:07.262977Z",
     "start_time": "2021-08-25T18:12:07.251751Z"
    }
   },
   "outputs": [],
   "source": [
    "net = draw_network(nodes, df, minium_weight=9, repulsion=100, spring_length=500)\n",
    "net.show(\"match.html\")"
   ]
  },
  {
   "cell_type": "code",
   "execution_count": null,
   "id": "e921405d",
   "metadata": {
    "ExecuteTime": {
     "end_time": "2021-08-25T18:12:07.266094Z",
     "start_time": "2021-08-25T18:12:07.264009Z"
    }
   },
   "outputs": [],
   "source": [
    "report.append(dp.HTML(read_html('match.html'), name='match'))"
   ]
  },
  {
   "cell_type": "code",
   "execution_count": null,
   "id": "a69497de",
   "metadata": {
    "ExecuteTime": {
     "end_time": "2021-08-25T18:12:07.276836Z",
     "start_time": "2021-08-25T18:12:07.266991Z"
    }
   },
   "outputs": [],
   "source": [
    "net = draw_network(\n",
    "    nodes, df, minium_weight=0, repulsion=100, spring_length=500, buttons=[\"physics\"]\n",
    ")\n",
    "net.show(\"match_with_buttons.html\")"
   ]
  },
  {
   "cell_type": "code",
   "execution_count": null,
   "id": "d7522dd4",
   "metadata": {
    "ExecuteTime": {
     "end_time": "2021-08-25T18:12:07.279708Z",
     "start_time": "2021-08-25T18:12:07.277630Z"
    }
   },
   "outputs": [],
   "source": [
    "report.append(dp.HTML(read_html('match_with_buttons.html'), name='match_with_buttons'))"
   ]
  },
  {
   "cell_type": "code",
   "execution_count": null,
   "id": "305c9435",
   "metadata": {
    "ExecuteTime": {
     "end_time": "2021-08-25T18:12:08.196885Z",
     "start_time": "2021-08-25T18:12:07.280455Z"
    }
   },
   "outputs": [],
   "source": [
    "dp.Report(*report).upload(name='Pyvis: Visualize Interactive Network Graphs in Python')"
   ]
  },
  {
   "cell_type": "code",
   "execution_count": null,
   "id": "0e035708",
   "metadata": {},
   "outputs": [],
   "source": []
  }
 ],
 "metadata": {
  "finalized": {
   "timestamp": 1623461886405,
   "trusted": true
  },
  "kernelspec": {
   "display_name": "Python 3 (ipykernel)",
   "language": "python",
   "name": "python3"
  },
  "language_info": {
   "codemirror_mode": {
    "name": "ipython",
    "version": 3
   },
   "file_extension": ".py",
   "mimetype": "text/x-python",
   "name": "python",
   "nbconvert_exporter": "python",
   "pygments_lexer": "ipython3",
   "version": "3.9.6"
  },
  "toc": {
   "base_numbering": 1,
   "nav_menu": {},
   "number_sections": true,
   "sideBar": true,
   "skip_h1_title": false,
   "title_cell": "Table of Contents",
   "title_sidebar": "Contents",
   "toc_cell": false,
   "toc_position": {},
   "toc_section_display": true,
   "toc_window_display": false
  }
 },
 "nbformat": 4,
 "nbformat_minor": 5
}
